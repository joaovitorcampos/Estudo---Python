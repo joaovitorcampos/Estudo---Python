{
 "cells": [
  {
   "cell_type": "markdown",
   "metadata": {},
   "source": [
    "## **Condicional IF**"
   ]
  },
  {
   "cell_type": "code",
   "execution_count": 1,
   "metadata": {},
   "outputs": [
    {
     "name": "stdout",
     "output_type": "stream",
     "text": [
      "É verdadeiro\n"
     ]
    }
   ],
   "source": [
    "#Condicional if\n",
    "if 5 > 2:\n",
    "    print(\"É verdadeiro\")"
   ]
  },
  {
   "cell_type": "code",
   "execution_count": 2,
   "metadata": {},
   "outputs": [
    {
     "name": "stdout",
     "output_type": "stream",
     "text": [
      "É falso\n"
     ]
    }
   ],
   "source": [
    "#Condicional if else\n",
    "if 5 < 2:\n",
    "    print(\"É verdadeiro\")\n",
    "else:\n",
    "    print(\"É falso\")"
   ]
  },
  {
   "cell_type": "code",
   "execution_count": 3,
   "metadata": {},
   "outputs": [
    {
     "name": "stdout",
     "output_type": "stream",
     "text": [
      "Hoje vai chover\n"
     ]
    }
   ],
   "source": [
    "#Usando váriaveis na condicional\n",
    "dia = \"Terça\"\n",
    "if dia == \"Segunda\":\n",
    "    print(\"Hoje fará sol\")\n",
    "else:\n",
    "    print(\"Hoje vai chover\")"
   ]
  },
  {
   "cell_type": "code",
   "execution_count": 4,
   "metadata": {},
   "outputs": [
    {
     "name": "stdout",
     "output_type": "stream",
     "text": [
      "Hoje vai chover\n"
     ]
    }
   ],
   "source": [
    "#Podemos usar o elif para validar mais deuma condição\n",
    "if dia == \"Segunda\":\n",
    "    print(\"Hoje fará sol\")\n",
    "elif dia == \"Terça\":\n",
    "    print(\"Hoje vai chover\")\n",
    "else:\n",
    "    print(\"Sem previsão do tempo para o dia selecionado\")"
   ]
  },
  {
   "cell_type": "markdown",
   "metadata": {},
   "source": [
    "## **Operadores Relacionais**"
   ]
  },
  {
   "cell_type": "code",
   "execution_count": 5,
   "metadata": {},
   "outputs": [
    {
     "data": {
      "text/plain": [
       "True"
      ]
     },
     "execution_count": 5,
     "metadata": {},
     "output_type": "execute_result"
    }
   ],
   "source": [
    "6 > 3"
   ]
  },
  {
   "cell_type": "code",
   "execution_count": 6,
   "metadata": {},
   "outputs": [
    {
     "data": {
      "text/plain": [
       "False"
      ]
     },
     "execution_count": 6,
     "metadata": {},
     "output_type": "execute_result"
    }
   ],
   "source": [
    "3 > 7"
   ]
  },
  {
   "cell_type": "code",
   "execution_count": 7,
   "metadata": {},
   "outputs": [
    {
     "data": {
      "text/plain": [
       "True"
      ]
     },
     "execution_count": 7,
     "metadata": {},
     "output_type": "execute_result"
    }
   ],
   "source": [
    "4 < 8"
   ]
  },
  {
   "cell_type": "code",
   "execution_count": 12,
   "metadata": {},
   "outputs": [
    {
     "data": {
      "text/plain": [
       "True"
      ]
     },
     "execution_count": 12,
     "metadata": {},
     "output_type": "execute_result"
    }
   ],
   "source": [
    "4 >= 4"
   ]
  },
  {
   "cell_type": "code",
   "execution_count": 9,
   "metadata": {},
   "outputs": [
    {
     "name": "stdout",
     "output_type": "stream",
     "text": [
      "Teste\n"
     ]
    }
   ],
   "source": [
    "if 5 == 5:\n",
    "    print(\"Teste\")"
   ]
  },
  {
   "cell_type": "code",
   "execution_count": 10,
   "metadata": {},
   "outputs": [
    {
     "name": "stdout",
     "output_type": "stream",
     "text": [
      "teste\n"
     ]
    }
   ],
   "source": [
    "if True:\n",
    "    print(\"teste\")"
   ]
  },
  {
   "cell_type": "code",
   "execution_count": 1,
   "metadata": {},
   "outputs": [
    {
     "name": "stdout",
     "output_type": "stream",
     "text": [
      "teste\n"
     ]
    }
   ],
   "source": [
    "#Se atente a sintaxe\n",
    "if 4 > 3:\n",
    "    print(\"teste\")"
   ]
  },
  {
   "cell_type": "markdown",
   "metadata": {},
   "source": [
    "> Lembre-se que a identação faz parte da sintaxe do Python"
   ]
  },
  {
   "cell_type": "markdown",
   "metadata": {},
   "source": [
    "## **Condicionais Aninhados**"
   ]
  },
  {
   "cell_type": "code",
   "execution_count": 14,
   "metadata": {},
   "outputs": [
    {
     "name": "stdout",
     "output_type": "stream",
     "text": [
      "Maior\n"
     ]
    }
   ],
   "source": [
    "idade = 18\n",
    "if idade > 17:\n",
    "    print(\"Maior\")"
   ]
  },
  {
   "cell_type": "code",
   "execution_count": 15,
   "metadata": {},
   "outputs": [
    {
     "name": "stdout",
     "output_type": "stream",
     "text": [
      "Autorizado\n"
     ]
    }
   ],
   "source": [
    "#Podemos acumular condicionais\n",
    "nome = \"Joao\"\n",
    "if idade > 13:\n",
    "    if nome == \"Joao\":\n",
    "        print(\"Autorizado\")\n",
    "    else:\n",
    "        print(\"Negado\")"
   ]
  },
  {
   "cell_type": "code",
   "execution_count": 16,
   "metadata": {},
   "outputs": [
    {
     "name": "stdout",
     "output_type": "stream",
     "text": [
      "Autorizado\n"
     ]
    }
   ],
   "source": [
    "#Podemos colocar diferentes regras\n",
    "if idade >=13 and nome == \"Joao\":\n",
    "    print(\"Autorizado\")"
   ]
  },
  {
   "cell_type": "code",
   "execution_count": 17,
   "metadata": {},
   "outputs": [
    {
     "name": "stdout",
     "output_type": "stream",
     "text": [
      "Autorizado\n"
     ]
    }
   ],
   "source": [
    "idade = 12 \n",
    "if (idade>=13) or (nome == \"Joao\"):\n",
    "    print(\"Autorizado\")"
   ]
  },
  {
   "cell_type": "markdown",
   "metadata": {},
   "source": [
    "## **Operadores Lógicos**"
   ]
  },
  {
   "cell_type": "code",
   "execution_count": 2,
   "metadata": {},
   "outputs": [
    {
     "name": "stdout",
     "output_type": "stream",
     "text": [
      "Autorizado\n"
     ]
    }
   ],
   "source": [
    "idade = 18\n",
    "nome = \"Joao\"\n",
    "if idade > 17:\n",
    "    print(\"Autorizado\")"
   ]
  },
  {
   "cell_type": "code",
   "execution_count": 3,
   "metadata": {},
   "outputs": [
    {
     "name": "stdout",
     "output_type": "stream",
     "text": [
      "Autorizado\n"
     ]
    }
   ],
   "source": [
    "if idade > 17 and nome == \"Joao\":\n",
    "    print(\"Autorizado\")"
   ]
  },
  {
   "cell_type": "markdown",
   "metadata": {},
   "source": [
    "* Os operadores lógicos funcionam assim:\n",
    "    - Operador and retorna true caso ambas as declarações sejam verdadeiras\n",
    "    - Operador or retorna true se alguma das declarações for verdadeira\n",
    "    - Operador not inverte o retorno (caso seja true retorna falso e vice-versa)"
   ]
  },
  {
   "cell_type": "code",
   "execution_count": 4,
   "metadata": {},
   "outputs": [
    {
     "name": "stdout",
     "output_type": "stream",
     "text": [
      "Ambas as condições são verdadeiras\n"
     ]
    }
   ],
   "source": [
    "#Operador and\n",
    "numero = 4\n",
    "if (numero > 2) and (numero % 2 == 0):\n",
    "    print (\"Ambas as condições são verdadeiras\")"
   ]
  },
  {
   "cell_type": "code",
   "execution_count": 5,
   "metadata": {},
   "outputs": [
    {
     "name": "stdout",
     "output_type": "stream",
     "text": [
      "Pelo menos uma das condições é falsa\n"
     ]
    }
   ],
   "source": [
    "#Operador and\n",
    "numero = 4\n",
    "if (numero > 5) and (numero % 2 == 0):\n",
    "    print(\"Ambas as condições são verdadeiras\")\n",
    "else:\n",
    "    print(\"Pelo menos uma das condições é falsa\")"
   ]
  },
  {
   "cell_type": "code",
   "execution_count": 6,
   "metadata": {},
   "outputs": [
    {
     "name": "stdout",
     "output_type": "stream",
     "text": [
      "Pelo menos uma das condições é verdadeira\n"
     ]
    }
   ],
   "source": [
    "#Operador or\n",
    "numero = 4\n",
    "if (numero > 5) or (numero % 2 == 0):\n",
    "    print(\"Pelo menos uma das condições é verdadeira\")"
   ]
  },
  {
   "cell_type": "code",
   "execution_count": 7,
   "metadata": {},
   "outputs": [
    {
     "name": "stdout",
     "output_type": "stream",
     "text": [
      "Ambas são verdadeiras\n"
     ]
    }
   ],
   "source": [
    "#Operador not\n",
    "numero = 4\n",
    "if not (numero > 5) and (numero % 2 == 0):\n",
    "    print(\"Ambas são verdadeiras\")\n",
    "else:\n",
    "    print(\"Pelo menos uma das condições é falsa\")\n"
   ]
  },
  {
   "cell_type": "code",
   "execution_count": 8,
   "metadata": {},
   "outputs": [
    {
     "name": "stdout",
     "output_type": "stream",
     "text": [
      "Pelo menos uma das condições é falsa\n"
     ]
    }
   ],
   "source": [
    "#Operador and, or e not\n",
    "numero = 4\n",
    "if (not(numero>5) and (numero % 2 == 0)) or (numero == 4):\n",
    "    print(\"Pelo menos uma das condições é falsa\")"
   ]
  },
  {
   "cell_type": "code",
   "execution_count": 9,
   "metadata": {},
   "outputs": [
    {
     "name": "stdout",
     "output_type": "stream",
     "text": [
      "Você foi aprovado em Data Science com média final 90!\n"
     ]
    }
   ],
   "source": [
    "# Usando mais de uma condição na clausula if e introduzindo Placeholders\n",
    "\n",
    "disciplina = \"Data Science\"\n",
    "nota_final = 90\n",
    "semestre = 2\n",
    "\n",
    "if disciplina == \"Data Science\" and nota_final >= 80 and semestre !=1:\n",
    "    print(\"Você foi aprovado em %s com média final %r!\" %(disciplina, nota_final))"
   ]
  }
 ],
 "metadata": {
  "kernelspec": {
   "display_name": "Python 3 (ipykernel)",
   "language": "python",
   "name": "python3"
  },
  "language_info": {
   "codemirror_mode": {
    "name": "ipython",
    "version": 3
   },
   "file_extension": ".py",
   "mimetype": "text/x-python",
   "name": "python",
   "nbconvert_exporter": "python",
   "pygments_lexer": "ipython3",
   "version": "3.12.4"
  }
 },
 "nbformat": 4,
 "nbformat_minor": 2
}
