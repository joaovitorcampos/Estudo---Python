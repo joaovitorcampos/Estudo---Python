{
 "cells": [
  {
   "cell_type": "markdown",
   "metadata": {},
   "source": [
    "## **Loop for**"
   ]
  },
  {
   "cell_type": "code",
   "execution_count": 1,
   "metadata": {},
   "outputs": [
    {
     "name": "stdout",
     "output_type": "stream",
     "text": [
      "2\n",
      "3\n",
      "4\n"
     ]
    }
   ],
   "source": [
    "#Criando uma tupla e imprimindo cada um dos valores\n",
    "tp = (2, 3, 4)\n",
    "for i in tp:\n",
    "    print(i)"
   ]
  },
  {
   "cell_type": "code",
   "execution_count": 2,
   "metadata": {},
   "outputs": [
    {
     "name": "stdout",
     "output_type": "stream",
     "text": [
      "Joao\n",
      "Vitor\n"
     ]
    }
   ],
   "source": [
    "#Criando uma lista e imprimindo cada um dos valores\n",
    "listaDeStrings = [\"Joao\", \"Vitor\"]\n",
    "for i in listaDeStrings:\n",
    "    print(i)"
   ]
  },
  {
   "cell_type": "code",
   "execution_count": 3,
   "metadata": {},
   "outputs": [
    {
     "name": "stdout",
     "output_type": "stream",
     "text": [
      "0\n",
      "1\n",
      "2\n",
      "3\n",
      "4\n"
     ]
    }
   ],
   "source": [
    "#Imprimindo valores no intervalo entre 0 e 5\n",
    "for contador in range(0,5):\n",
    "    print(contador)"
   ]
  },
  {
   "cell_type": "code",
   "execution_count": 4,
   "metadata": {},
   "outputs": [
    {
     "name": "stdout",
     "output_type": "stream",
     "text": [
      "2\n",
      "4\n",
      "6\n",
      "8\n",
      "10\n"
     ]
    }
   ],
   "source": [
    "#Imprimindo os numeros pares da lista de numeros\n",
    "lista = [1, 2, 3, 4, 5, 6, 7, 8, 9, 10]\n",
    "for num in lista:\n",
    "    if num % 2 == 0:\n",
    "        print(num)"
   ]
  },
  {
   "cell_type": "code",
   "execution_count": 5,
   "metadata": {},
   "outputs": [
    {
     "name": "stdout",
     "output_type": "stream",
     "text": [
      "0\n",
      "2\n",
      "4\n",
      "6\n",
      "8\n",
      "10\n",
      "12\n",
      "14\n",
      "16\n",
      "18\n",
      "20\n",
      "22\n",
      "24\n",
      "26\n",
      "28\n",
      "30\n",
      "32\n",
      "34\n",
      "36\n",
      "38\n",
      "40\n",
      "42\n",
      "44\n",
      "46\n",
      "48\n",
      "50\n",
      "52\n",
      "54\n",
      "56\n",
      "58\n",
      "60\n",
      "62\n",
      "64\n",
      "66\n",
      "68\n",
      "70\n",
      "72\n",
      "74\n",
      "76\n",
      "78\n",
      "80\n",
      "82\n",
      "84\n",
      "86\n",
      "88\n",
      "90\n",
      "92\n",
      "94\n",
      "96\n",
      "98\n",
      "100\n"
     ]
    }
   ],
   "source": [
    "#Listando os números no intervalo entre 0 e 101, com incremento em 2\n",
    "for i in range(0, 101, 2):\n",
    "    print(i)"
   ]
  },
  {
   "cell_type": "code",
   "execution_count": 6,
   "metadata": {},
   "outputs": [
    {
     "name": "stdout",
     "output_type": "stream",
     "text": [
      "P\n",
      "y\n",
      "t\n",
      "h\n",
      "o\n",
      "n\n",
      " \n",
      "é\n",
      " \n",
      "u\n",
      "m\n",
      "a\n",
      " \n",
      "l\n",
      "i\n",
      "n\n",
      "g\n",
      "u\n",
      "a\n"
     ]
    }
   ],
   "source": [
    "#Lembre-se que strings também são sequências\n",
    "for caracter in \"Python é uma lingua\":\n",
    "    print(caracter)"
   ]
  },
  {
   "cell_type": "markdown",
   "metadata": {},
   "source": [
    "## **Loop for aninhado**"
   ]
  },
  {
   "cell_type": "code",
   "execution_count": 8,
   "metadata": {},
   "outputs": [
    {
     "name": "stdout",
     "output_type": "stream",
     "text": [
      "\n",
      " 0\n",
      "\n",
      " 0\n",
      "\n",
      " 0\n",
      "----\n",
      "\n",
      " 1\n",
      "\n",
      " 2\n",
      "\n",
      " 3\n",
      "----\n",
      "\n",
      " 2\n",
      "\n",
      " 4\n",
      "\n",
      " 6\n",
      "----\n",
      "\n",
      " 3\n",
      "\n",
      " 6\n",
      "\n",
      " 9\n",
      "----\n",
      "\n",
      " 4\n",
      "\n",
      " 8\n",
      "\n",
      " 12\n",
      "----\n"
     ]
    }
   ],
   "source": [
    "#Loops aninhados\n",
    "lista1 = [0, 1, 2, 3, 4]\n",
    "lista2 = [1, 2, 3]\n",
    "\n",
    "#Loop externo \n",
    "for elemento_lista1 in lista1:\n",
    "    #Loop interno\n",
    "    for elemento_lista2  in lista2:\n",
    "        print(\"\\n\", elemento_lista1 * elemento_lista2)\n",
    "    print(\"----\")"
   ]
  },
  {
   "cell_type": "code",
   "execution_count": 9,
   "metadata": {},
   "outputs": [
    {
     "name": "stdout",
     "output_type": "stream",
     "text": [
      "Existe!\n"
     ]
    }
   ],
   "source": [
    "#O número 47 aparece nas duas listas?\n",
    "lista1 = [10, 16, 24, 39, 47]\n",
    "lista2 = [32, 89, 47, 76, 12]\n",
    "for elemento_lista1 in lista1:\n",
    "    for elemento_lista2 in lista2:\n",
    "        if elemento_lista1 == 47 and elemento_lista2 == 47:\n",
    "            print(\"Existe!\")"
   ]
  },
  {
   "cell_type": "code",
   "execution_count": 10,
   "metadata": {},
   "outputs": [
    {
     "name": "stdout",
     "output_type": "stream",
     "text": [
      "A soma dos numeros é: 170\n"
     ]
    }
   ],
   "source": [
    "#Some os números pares da primeira lista com os pares da segunda\n",
    "lista1 = [10, 16, 24, 39, 47]\n",
    "lista2 = [32, 89, 47, 76, 12]\n",
    "soma = 0\n",
    "for lista in [lista1, lista2]:\n",
    "    for num in lista:\n",
    "        if num % 2 == 0:\n",
    "            soma += num\n",
    "print(\"A soma dos numeros é:\", soma)"
   ]
  },
  {
   "cell_type": "markdown",
   "metadata": {},
   "source": [
    "## **Loop while**"
   ]
  },
  {
   "cell_type": "code",
   "execution_count": 11,
   "metadata": {},
   "outputs": [
    {
     "name": "stdout",
     "output_type": "stream",
     "text": [
      "0\n",
      "1\n",
      "2\n",
      "3\n",
      "4\n",
      "5\n",
      "6\n",
      "7\n",
      "8\n",
      "9\n"
     ]
    }
   ],
   "source": [
    "# Usando o loop while para imprimir os valores de 0 a 9\n",
    "# A condição tem que deixar de ser verdadeira dentro do loop, senão o programa vai rodar infinitamente (podendo travar o computador)\n",
    "valor = 0\n",
    "while valor < 10:\n",
    "    print(valor)\n",
    "    valor = valor + 1"
   ]
  },
  {
   "cell_type": "code",
   "execution_count": 12,
   "metadata": {},
   "outputs": [],
   "source": [
    "# O loop while só entra em execução caso a condição seja verdadeira\n",
    "valor = 11\n",
    "while valor < 10:\n",
    "    print(valor)\n",
    "    valor = valor +1"
   ]
  },
  {
   "cell_type": "code",
   "execution_count": 13,
   "metadata": {},
   "outputs": [
    {
     "name": "stdout",
     "output_type": "stream",
     "text": [
      "O valor de x é:  0\n",
      "O valor de x é:  1\n",
      "O valor de x é:  2\n",
      "O valor de x é:  3\n",
      "O valor de x é:  4\n",
      "O valor de x é:  5\n",
      "O valor de x é:  6\n",
      "O valor de x é:  7\n",
      "O valor de x é:  8\n",
      "O valor de x é:  9\n",
      "Acabou\n",
      "10\n"
     ]
    }
   ],
   "source": [
    "#Podemos usar o else para encerrar o while\n",
    "x = 0\n",
    "while x < 10:\n",
    "    print(\"O valor de x é: \", x)\n",
    "    x += 1\n",
    "else:\n",
    "    print(\"Acabou\")\n",
    "print(x)"
   ]
  },
  {
   "cell_type": "markdown",
   "metadata": {},
   "source": [
    "## **Pass, break e continue**"
   ]
  },
  {
   "cell_type": "code",
   "execution_count": 14,
   "metadata": {},
   "outputs": [
    {
     "name": "stdout",
     "output_type": "stream",
     "text": [
      "0\n",
      "1\n",
      "2\n",
      "3\n"
     ]
    }
   ],
   "source": [
    "# Se encontrarmos o numero 4, interrompemos o loop\n",
    "valor = 0\n",
    "while valor < 10:\n",
    "    if valor == 4:\n",
    "        break\n",
    "    else:\n",
    "        pass\n",
    "    print(valor)\n",
    "    valor = valor + 1"
   ]
  },
  {
   "cell_type": "code",
   "execution_count": 15,
   "metadata": {},
   "outputs": [
    {
     "name": "stdout",
     "output_type": "stream",
     "text": [
      "P\n",
      "y\n",
      "t\n",
      "h\n",
      "o\n",
      "n\n",
      " \n",
      " \n",
      "é\n",
      " \n",
      "u\n",
      "m\n",
      "a\n",
      " \n",
      "l\n",
      "i\n",
      "n\n",
      "g\n",
      "u\n",
      "a\n"
     ]
    }
   ],
   "source": [
    "#Desconsideramos a letra z ao imprimir os caracteres\n",
    "for letra in \"Python zzz é uma lingua\":\n",
    "    if letra == \"z\":\n",
    "        continue\n",
    "    print(letra)"
   ]
  },
  {
   "cell_type": "markdown",
   "metadata": {},
   "source": [
    "## **Loop for e while juntos**"
   ]
  },
  {
   "cell_type": "code",
   "execution_count": 19,
   "metadata": {},
   "outputs": [
    {
     "name": "stdout",
     "output_type": "stream",
     "text": [
      "[2, 3, 5, 7, 11, 13, 17, 19, 23, 29]\n",
      "CPU times: total: 0 ns\n",
      "Wall time: 0 ns\n"
     ]
    }
   ],
   "source": [
    "%%time \n",
    "#isso não é um código Python, mas sim um Jupyter Notebook, o qual mede o tempo de execução da célula\n",
    "\n",
    "#Encontrando números primos entre 2 e 30\n",
    "primos = []\n",
    "for num in range (2, 31):\n",
    "    primo = True\n",
    "    i = 2\n",
    "    while i <= num // 2:\n",
    "        if num % i == 0:\n",
    "            primo = False\n",
    "            break\n",
    "        i += 1\n",
    "    if primo:\n",
    "        primos.append(num)\n",
    "print(primos)\n",
    "            "
   ]
  }
 ],
 "metadata": {
  "kernelspec": {
   "display_name": "base",
   "language": "python",
   "name": "python3"
  },
  "language_info": {
   "codemirror_mode": {
    "name": "ipython",
    "version": 3
   },
   "file_extension": ".py",
   "mimetype": "text/x-python",
   "name": "python",
   "nbconvert_exporter": "python",
   "pygments_lexer": "ipython3",
   "version": "3.12.4"
  }
 },
 "nbformat": 4,
 "nbformat_minor": 2
}
