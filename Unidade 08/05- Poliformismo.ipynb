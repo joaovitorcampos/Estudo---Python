{
 "cells": [
  {
   "cell_type": "markdown",
   "metadata": {},
   "source": [
    "## **Trabalhando com Poliformismo de Classes em Python**"
   ]
  },
  {
   "cell_type": "markdown",
   "metadata": {},
   "source": [
    "Poliformismo é um dos conceitos fundamentais da POO. O poliformismo permite que objetos de diferentes classes sejam tratados de forma uniforme. Isso significa que um objeto pode ser tratado como se fosse um objeto de uma superclasse, mesmo que seja de uma subclasse"
   ]
  },
  {
   "cell_type": "markdown",
   "metadata": {},
   "source": [
    "O poliformismo se refere a habilidade de um objeto responder de diferentes formas a uma mesma mensagem. Isso é possível porque as subclasses podem implementar métodos com o mesmo nome que os métodos da superclasse, mas com comportamentos diferentes"
   ]
  },
  {
   "cell_type": "markdown",
   "metadata": {},
   "source": [
    "Com o poliformismo, os mesmos atributos e métodos podem ser utilizados em objetos distintos, porém, com implementações lógicas diferentes"
   ]
  },
  {
   "cell_type": "code",
   "execution_count": 2,
   "metadata": {},
   "outputs": [],
   "source": [
    "#Superclasse\n",
    "class Veiculo:\n",
    "    def __init__(self, marca, modelo):\n",
    "        self.marca = marca\n",
    "        self.modelo = modelo\n",
    "    def acelerar(self):\n",
    "        pass\n",
    "    def frear(self):\n",
    "        pass"
   ]
  },
  {
   "cell_type": "code",
   "execution_count": 3,
   "metadata": {},
   "outputs": [],
   "source": [
    "#Subclasse\n",
    "class Carro(Veiculo):\n",
    "    def acelerar(self):\n",
    "        print(\"O carro está acelerando\")\n",
    "    def frear(self):\n",
    "        print(\"O carro está freiando\")"
   ]
  },
  {
   "cell_type": "code",
   "execution_count": 4,
   "metadata": {},
   "outputs": [],
   "source": [
    "#Subclasse\n",
    "class Moto(Veiculo):\n",
    "    def acelerar(self):\n",
    "        print(\"A moto está acelerando\")\n",
    "    def frear(self):\n",
    "        print(\"A moto está freiando\")"
   ]
  },
  {
   "cell_type": "code",
   "execution_count": 6,
   "metadata": {},
   "outputs": [],
   "source": [
    "#Subclasse\n",
    "class Aviao(Veiculo):\n",
    "    def acelerar(self):\n",
    "        print(\"O avião está acelerando\")\n",
    "    def frear(self):\n",
    "        print(\"O avião está freiando\")\n",
    "    def decolar(self):\n",
    "        print(\"O avião está decolando\")"
   ]
  },
  {
   "cell_type": "code",
   "execution_count": 7,
   "metadata": {},
   "outputs": [],
   "source": [
    "#Cria os objetos\n",
    "lista_veiculos = [Carro(\"Porsche\", \"911 Turbo\"), Moto(\"Honda\", \"CB 1000R\"), Aviao(\"Boeing\", \"757\")]"
   ]
  },
  {
   "cell_type": "code",
   "execution_count": 9,
   "metadata": {},
   "outputs": [
    {
     "name": "stdout",
     "output_type": "stream",
     "text": [
      "O carro está acelerando\n",
      "O carro está freiando\n",
      "---\n",
      "A moto está acelerando\n",
      "A moto está freiando\n",
      "---\n",
      "O avião está acelerando\n",
      "O avião está freiando\n",
      "O avião está decolando\n",
      "---\n"
     ]
    }
   ],
   "source": [
    "for item in lista_veiculos:\n",
    "    #O método acelerar tem comportamento diferente dependendo do tipo de objeto\n",
    "    item.acelerar()\n",
    "    #O método frear tem comportamento diferente dependendo do tipo de objeto\n",
    "    item.frear()\n",
    "    #Se o objeto for instancia da classe aviao, executamos o método decolar\n",
    "    if isinstance(item, Aviao):\n",
    "        item.decolar()\n",
    "    print(\"---\")"
   ]
  }
 ],
 "metadata": {
  "kernelspec": {
   "display_name": "base",
   "language": "python",
   "name": "python3"
  },
  "language_info": {
   "codemirror_mode": {
    "name": "ipython",
    "version": 3
   },
   "file_extension": ".py",
   "mimetype": "text/x-python",
   "name": "python",
   "nbconvert_exporter": "python",
   "pygments_lexer": "ipython3",
   "version": "3.12.4"
  }
 },
 "nbformat": 4,
 "nbformat_minor": 2
}
