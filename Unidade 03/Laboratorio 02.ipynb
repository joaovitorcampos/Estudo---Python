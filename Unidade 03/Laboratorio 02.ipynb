{
 "cells": [
  {
   "cell_type": "markdown",
   "id": "d1222759-af8f-4a46-bdd3-18a27c1317a7",
   "metadata": {},
   "source": [
    "Pseudocódigo 1: Área de um paralelograma"
   ]
  },
  {
   "cell_type": "markdown",
   "id": "43590180-8ec8-4831-bb0d-0c73efc606e0",
   "metadata": {},
   "source": [
    "variavel altura, largura, area\n",
    "solicite ao usuário altura\n",
    "solicite ao usuário largura\n",
    "area = largura * altura\n",
    "imprima area"
   ]
  },
  {
   "cell_type": "code",
   "execution_count": 1,
   "id": "524199c6-bac6-4787-9d77-9050f6fb11ed",
   "metadata": {},
   "outputs": [
    {
     "name": "stdin",
     "output_type": "stream",
     "text": [
      "Digite a  altura:  10\n"
     ]
    }
   ],
   "source": [
    "altura = float(input(\"Digite a  altura: \"))"
   ]
  },
  {
   "cell_type": "code",
   "execution_count": 2,
   "id": "84b32fec-dc4a-438c-9532-f2ebedab776c",
   "metadata": {},
   "outputs": [
    {
     "name": "stdin",
     "output_type": "stream",
     "text": [
      "Digite a largura:  5\n"
     ]
    }
   ],
   "source": [
    "largura = float(input(\"Digite a largura: \"))"
   ]
  },
  {
   "cell_type": "code",
   "execution_count": 6,
   "id": "8042aa80-1cd6-400a-8fc8-d98189a4ec94",
   "metadata": {},
   "outputs": [
    {
     "name": "stdout",
     "output_type": "stream",
     "text": [
      "A area do paralelograma é: 50.0\n"
     ]
    }
   ],
   "source": [
    "print(\"A area do paralelograma é:\", altura*largura)"
   ]
  },
  {
   "cell_type": "markdown",
   "id": "a8155130-0903-42ed-a9b9-01b24b8ee761",
   "metadata": {},
   "source": [
    "Pseudocódigo 2: Calculadora Simples"
   ]
  },
  {
   "cell_type": "markdown",
   "id": "19e713dc-d8f3-4ec7-920d-c97ec88ba453",
   "metadata": {},
   "source": [
    "solicite ao usuario o primeiro numero\n",
    "solicite ao usuario o segundo numero\n",
    "solicite o usuario a operacao\n",
    "    se operacao for soma\n",
    "        soma = primeiro numero + segundo numero\n",
    "        imprima soma\n",
    "    se operacao for subtracao\n",
    "        subtracao = primeiro numero - segundo numero\n",
    "        imprima subtracao\n",
    "    se operacao for multiplicacao\n",
    "        multiplicacao = primeiro numero * segundo numero\n",
    "        imprima multiplicacao\n",
    "    se operacao for divisao\n",
    "        divisao = primeiro numero / segundo numero\n",
    "        imprima divisao"
   ]
  },
  {
   "cell_type": "code",
   "execution_count": 11,
   "id": "f6957785-caa4-403d-aa35-ef9c290546bd",
   "metadata": {},
   "outputs": [
    {
     "name": "stdin",
     "output_type": "stream",
     "text": [
      "Digite o primeiro numero:  5\n"
     ]
    }
   ],
   "source": [
    "num1 = int(input(\"Digite o primeiro numero: \"))"
   ]
  },
  {
   "cell_type": "code",
   "execution_count": null,
   "id": "89987575-0a0c-4b03-bd09-a0f7005cf79d",
   "metadata": {},
   "outputs": [],
   "source": [
    "num2 = int(input(\"Digite o segundo numero: \"))"
   ]
  },
  {
   "cell_type": "code",
   "execution_count": null,
   "id": "d7d1746b-102a-4953-af90-f6e132706b38",
   "metadata": {},
   "outputs": [],
   "source": [
    "op = input(\"Digite a operacao\")"
   ]
  },
  {
   "cell_type": "code",
   "execution_count": null,
   "id": "a8360b94-f3dd-4c67-8032-a2e5f0e966fb",
   "metadata": {},
   "outputs": [],
   "source": [
    "if (op==\"+\"):\n",
    "    print(num1+num2)\n",
    "elif (op ==\"-\"):\n",
    "    print(num1-num2)\n",
    "elif (op == \"*\"):\n",
    "    print(num1*num2)\n",
    "elif (op == \"/\"):\n",
    "    print(num1/num2)"
   ]
  },
  {
   "cell_type": "markdown",
   "id": "490b086b-0db2-4a09-8882-2b23cedd1b02",
   "metadata": {},
   "source": [
    "Pseudocódigo 3 -  BubbleSort"
   ]
  },
  {
   "cell_type": "markdown",
   "id": "1edbe2d0-5fd5-4ab4-a902-02153d21a78f",
   "metadata": {},
   "source": [
    "numero2 = tamanho do array\n",
    "enquanto numero2 for maior que zero \n",
    "    numero = 0\n",
    "    enquanto numero for menor que numero2\n",
    "        se objeto do array na posicao numero for maior que objeto do array na posicao numero2\n",
    "            temporario = objeto do array na posicao numero2\n",
    "            objeto do array na posicao numero2 = objeto do array na posicao numero\n",
    "            objeto do array na posicao numero = temporario\n",
    "        numero aumenta 1\n",
    "    numero 2 diminui 1"
   ]
  },
  {
   "cell_type": "code",
   "execution_count": 34,
   "id": "f9da68dc-c19e-4fdf-86ba-d344e2fba6d5",
   "metadata": {},
   "outputs": [
    {
     "name": "stdout",
     "output_type": "stream",
     "text": [
      "[1, 2, 3, 4, 5]\n"
     ]
    }
   ],
   "source": [
    "array = [5,4,3,2,1]\n",
    "numero2 = len(array) - 1\n",
    "while numero2 > 0:\n",
    "    numero = 0\n",
    "    while numero < numero2:\n",
    "        if array[numero] > array[numero2]:\n",
    "            temporario = array[numero2]\n",
    "            array[numero2] = array[numero]\n",
    "            array[numero] = temporario\n",
    "        numero += 1\n",
    "    numero2-=1\n",
    "print(array)"
   ]
  },
  {
   "cell_type": "code",
   "execution_count": 37,
   "id": "871d85ae-7a31-46a9-b2b8-ed98d347dd6e",
   "metadata": {},
   "outputs": [],
   "source": [
    "def bubble_sort(arr):\n",
    "    n = len(arr)\n",
    "    for i in range(n):\n",
    "        for j in range(n-i-1):\n",
    "            if arr[j] > arr[j+1]:\n",
    "                arr[j], arr[j+1] = arr[j+1], arr[j]\n",
    "    return (arr)"
   ]
  },
  {
   "cell_type": "code",
   "execution_count": 38,
   "id": "476d3b29-3736-45a2-af2e-115427891b92",
   "metadata": {},
   "outputs": [
    {
     "name": "stdout",
     "output_type": "stream",
     "text": [
      "[1, 2, 3, 4, 5]\n"
     ]
    }
   ],
   "source": [
    "print(bubble_sort(array))"
   ]
  },
  {
   "cell_type": "code",
   "execution_count": null,
   "id": "5a67d384-9bed-451b-9035-7fb7841f0fce",
   "metadata": {},
   "outputs": [],
   "source": []
  }
 ],
 "metadata": {
  "kernelspec": {
   "display_name": "Python 3 (ipykernel)",
   "language": "python",
   "name": "python3"
  },
  "language_info": {
   "codemirror_mode": {
    "name": "ipython",
    "version": 3
   },
   "file_extension": ".py",
   "mimetype": "text/x-python",
   "name": "python",
   "nbconvert_exporter": "python",
   "pygments_lexer": "ipython3",
   "version": "3.12.4"
  }
 },
 "nbformat": 4,
 "nbformat_minor": 5
}
