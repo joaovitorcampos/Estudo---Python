{
 "cells": [
  {
   "cell_type": "markdown",
   "metadata": {},
   "source": [
    "## **Expressões Regulares**"
   ]
  },
  {
   "cell_type": "markdown",
   "metadata": {},
   "source": [
    "> Expressões regulares são padrões usados para combianr ou encontrar ocorrências de sequências de caracteres em uma string; Em Python, são geralmente usadas para manipular strings e realizar tarefas como validação de entrada de dados, extração de informações de strings e substituição de texto."
   ]
  },
  {
   "cell_type": "code",
   "execution_count": 1,
   "metadata": {},
   "outputs": [],
   "source": [
    "import re"
   ]
  },
  {
   "cell_type": "code",
   "execution_count": 2,
   "metadata": {},
   "outputs": [],
   "source": [
    "texto = \"Meu e-mail é exemplo@gmail.com e você pode me contatar em outro_email@yahoo.com\""
   ]
  },
  {
   "cell_type": "code",
   "execution_count": 3,
   "metadata": {},
   "outputs": [],
   "source": [
    "#Expressão regular para contar quantas vezes o caracter arroba aparece no texto\n",
    "resultado = len(re.findall(\"@\", texto))"
   ]
  },
  {
   "cell_type": "code",
   "execution_count": 4,
   "metadata": {},
   "outputs": [
    {
     "name": "stdout",
     "output_type": "stream",
     "text": [
      "O caractere '@' apareceu 2 vezes no texto.\n"
     ]
    }
   ],
   "source": [
    "print(\"O caractere '@' apareceu\", resultado, \"vezes no texto.\")"
   ]
  },
  {
   "cell_type": "code",
   "execution_count": 8,
   "metadata": {},
   "outputs": [],
   "source": [
    "#Expressão regular para extrair a palavra que aparece após a palavra você em um texto\n",
    "resultado = re.findall(r'você (\\w+)', texto)"
   ]
  },
  {
   "cell_type": "code",
   "execution_count": 9,
   "metadata": {},
   "outputs": [
    {
     "name": "stdout",
     "output_type": "stream",
     "text": [
      "A palavra após 'você' é: pode\n"
     ]
    }
   ],
   "source": [
    "print(\"A palavra após 'você' é:\", resultado[0])"
   ]
  },
  {
   "cell_type": "markdown",
   "metadata": {},
   "source": [
    "> O r antes da string que representa a expressão regular em Python é usado para indicar que a string é uma string literal raw. Isso significa que as barras invertidas () não são interpretadas como caracteres de escape, mas são incluídas na expressão regular como parte do padrão"
   ]
  },
  {
   "cell_type": "code",
   "execution_count": 10,
   "metadata": {},
   "outputs": [],
   "source": [
    "#Expressão regular para extrair endereços de e-mail de uma string\n",
    "emails = re.findall(r'\\b[A-Za-z0-9._%+-]+@[A-Za-z0-9._%+-]+\\.[A-Z|a-z]{2,}\\b', texto)"
   ]
  },
  {
   "cell_type": "code",
   "execution_count": 11,
   "metadata": {},
   "outputs": [
    {
     "name": "stdout",
     "output_type": "stream",
     "text": [
      "['exemplo@gmail.com', 'outro_email@yahoo.com']\n"
     ]
    }
   ],
   "source": [
    "print(emails)"
   ]
  },
  {
   "cell_type": "code",
   "execution_count": 12,
   "metadata": {},
   "outputs": [],
   "source": [
    "text = \"O aluno estava incrivelmente perdido, mas encontrou a DSA e rapidamente começou a aprender\""
   ]
  },
  {
   "cell_type": "code",
   "execution_count": 13,
   "metadata": {},
   "outputs": [
    {
     "name": "stdout",
     "output_type": "stream",
     "text": [
      "15-28: incrivelmente\n",
      "60-71: rapidamente\n"
     ]
    }
   ],
   "source": [
    "#Extraindo os advérbios da frase\n",
    "for m in re.finditer(r\"\\w+mente\\b\", text):\n",
    "    print(\"%02d-%02d: %s\" % (m.start(), m.end(), m.group()))"
   ]
  },
  {
   "cell_type": "markdown",
   "metadata": {},
   "source": [
    "## **Sequências especiais**\n",
    "<ol type=\"I\"><h3>Carácteres</h3>\n",
    "<li> \"\\A\" -> Retorna se o caracter está no começo da string\n",
    "<li> \"\\b\" -> Retorna onde o caracter está no começo ou final de uma palavra\n",
    "<li> \"\\B\" -> Retorna onde o caracter está, mas não no começo ou final de uma palavra\n",
    "<li> \"\\d\" -> Retorna onde a string contém digitos (0-9)\n",
    "<li> \"\\D\" -> Retorna onde a string não contém digitos\n",
    "<li> \"\\s\" -> Retorna onde a string contém um espaço em branco\n",
    "<li> \"\\S\" -> Retorna onde a string não contém um espaço em branco \n",
    "<li> \"\\w\" -> Retorna onde a string contém qualquer palavra (caracteres de a até Z, digitos de 0-9 e o caracter _)\n",
    "<li> \"\\W\" -> Retorna onde a string não contém qualquer palavra\n",
    "<li> \"\\Z\" -> Retorna se o caracter está no final da string"
   ]
  },
  {
   "cell_type": "markdown",
   "metadata": {},
   "source": [
    ">Uso do **\\A**"
   ]
  },
  {
   "cell_type": "code",
   "execution_count": 65,
   "metadata": {},
   "outputs": [
    {
     "name": "stdout",
     "output_type": "stream",
     "text": [
      "['The']\n",
      "Possui o valor\n"
     ]
    }
   ],
   "source": [
    "#Uso do \\A\n",
    "import re\n",
    "txt = \"The rain in Spain\"\n",
    "x = re.findall(r\"\\AThe\", txt)\n",
    "print(x)\n",
    "if x:\n",
    "  print(\"Possui o valor\")\n",
    "else:\n",
    "  print(\"Não possui o valor\")\n"
   ]
  },
  {
   "cell_type": "markdown",
   "metadata": {},
   "source": [
    ">Uso do **\\b**"
   ]
  },
  {
   "cell_type": "code",
   "execution_count": 64,
   "metadata": {},
   "outputs": [
    {
     "name": "stdout",
     "output_type": "stream",
     "text": [
      "[]\n",
      "Não possui o valor\n"
     ]
    }
   ],
   "source": [
    "#Uso do \\b\n",
    "#Checa se \"ain\" está presente no começo de uma palavra\n",
    "txt = \"The rain in Spain\"\n",
    "x = re.findall(r\"\\bain\", txt)\n",
    "print(x)\n",
    "if x:\n",
    "  print(\"Possui o valor\")\n",
    "else:\n",
    "  print(\"Não possui o valor\")\n"
   ]
  },
  {
   "cell_type": "code",
   "execution_count": 63,
   "metadata": {},
   "outputs": [
    {
     "name": "stdout",
     "output_type": "stream",
     "text": [
      "['ain', 'ain']\n",
      "Possui o valor\n"
     ]
    }
   ],
   "source": [
    "#Checa se \"ain\" está no final de uma palavra\n",
    "x = re.findall(r\"ain\\b\", txt)\n",
    "print(x)\n",
    "if x:\n",
    "  print(\"Possui o valor\")\n",
    "else:\n",
    "  print(\"Não possui o valor\")"
   ]
  },
  {
   "cell_type": "markdown",
   "metadata": {},
   "source": [
    ">Uso do **\\B**"
   ]
  },
  {
   "cell_type": "code",
   "execution_count": 66,
   "metadata": {},
   "outputs": [
    {
     "name": "stdout",
     "output_type": "stream",
     "text": [
      "['ain', 'ain']\n",
      "Possui o valor\n"
     ]
    }
   ],
   "source": [
    "#Uso do \\B\n",
    "txt = \"The rain in Spain\"\n",
    "#Checa se \"ain\" está presente, mas não no começo de uma palavra:\n",
    "x = re.findall(r\"\\Bain\", txt)\n",
    "print(x)\n",
    "if x:\n",
    "  print(\"Possui o valor\")\n",
    "else:\n",
    "  print(\"Não possui o valor\")\n"
   ]
  },
  {
   "cell_type": "code",
   "execution_count": 69,
   "metadata": {},
   "outputs": [
    {
     "name": "stdout",
     "output_type": "stream",
     "text": [
      "[]\n",
      "Não possui o valor\n"
     ]
    }
   ],
   "source": [
    "#Checa se \"ain\" está presente, mas não no final de uma palavra:\n",
    "x = re.findall(r\"ain\\B\", txt)\n",
    "print(x)\n",
    "if x:\n",
    "  print(\"Possui o valor\")\n",
    "else:\n",
    "  print(\"Não possui o valor\")"
   ]
  },
  {
   "cell_type": "markdown",
   "metadata": {},
   "source": [
    ">Uso do **\\d**"
   ]
  },
  {
   "cell_type": "code",
   "execution_count": 89,
   "metadata": {},
   "outputs": [
    {
     "name": "stdout",
     "output_type": "stream",
     "text": [
      "[]\n",
      "Não possui o valor\n"
     ]
    }
   ],
   "source": [
    "#Uso do \\d\n",
    "txt = \"The rain in Spain\"\n",
    "#Checa se a string possui algum digito (Numeros entre 0 e 9):\n",
    "x = re.findall(r\"\\d\", txt)\n",
    "print(x)\n",
    "if x:\n",
    "  print(\"Possui o valor\")\n",
    "else:\n",
    "  print(\"Não possui o valor\")"
   ]
  },
  {
   "cell_type": "code",
   "execution_count": 76,
   "metadata": {},
   "outputs": [
    {
     "name": "stdout",
     "output_type": "stream",
     "text": [
      "['5', '3']\n",
      "Possui o valor\n"
     ]
    }
   ],
   "source": [
    "txt = \"The 5-day rain in 3 countries, including Spain\"\n",
    "#Checa se a string possui algum digito (Numeros entre 0 e 9):\n",
    "x = re.findall(r\"\\d\", txt)\n",
    "print(x)\n",
    "if x:\n",
    "  print(\"Possui o valor\")\n",
    "else:\n",
    "  print(\"Não possui o valor\")"
   ]
  },
  {
   "cell_type": "markdown",
   "metadata": {},
   "source": [
    ">Uso do **\\D**"
   ]
  },
  {
   "cell_type": "code",
   "execution_count": 78,
   "metadata": {},
   "outputs": [
    {
     "name": "stdout",
     "output_type": "stream",
     "text": [
      "['T', 'h', 'e', ' ', 'r', 'a', 'i', 'n', ' ', 'i', 'n', ' ', 'S', 'p', 'a', 'i', 'n']\n",
      "Possui o valor\n"
     ]
    }
   ],
   "source": [
    "#Uso do \\D\n",
    "txt = \"The rain in Spain\"\n",
    "#Retorna se a string não possui algum digito:\n",
    "x = re.findall(r\"\\D\", txt)\n",
    "print(x)\n",
    "if x:\n",
    "  print(\"Possui o valor\")\n",
    "else:\n",
    "  print(\"Não possui o valor\")"
   ]
  },
  {
   "cell_type": "code",
   "execution_count": 79,
   "metadata": {},
   "outputs": [
    {
     "name": "stdout",
     "output_type": "stream",
     "text": [
      "[]\n",
      "Não possui o valor\n"
     ]
    }
   ],
   "source": [
    "txt = \"123456789\"\n",
    "#Retorna se a string não possui algum digito:\n",
    "x = re.findall(r\"\\D\", txt)\n",
    "print(x)\n",
    "if x:\n",
    "  print(\"Possui o valor\")\n",
    "else:\n",
    "  print(\"Não possui o valor\")"
   ]
  },
  {
   "cell_type": "markdown",
   "metadata": {},
   "source": [
    ">Uso do **\\s**"
   ]
  },
  {
   "cell_type": "code",
   "execution_count": 90,
   "metadata": {},
   "outputs": [
    {
     "name": "stdout",
     "output_type": "stream",
     "text": [
      "[' ', ' ', ' ']\n",
      "Possui o valor\n"
     ]
    }
   ],
   "source": [
    "#Uso do \\s\n",
    "txt = \"The rain in Spain\"\n",
    "#Retorna onde possui uma string vazia:\n",
    "x = re.findall(r\"\\s\", txt)\n",
    "print(x)\n",
    "if x:\n",
    "  print(\"Possui o valor\")\n",
    "else:\n",
    "  print(\"Não possui o valor\")\n"
   ]
  },
  {
   "cell_type": "code",
   "execution_count": 82,
   "metadata": {},
   "outputs": [
    {
     "name": "stdout",
     "output_type": "stream",
     "text": [
      "[]\n",
      "Não possui o valor\n"
     ]
    }
   ],
   "source": [
    "txt = \"The_rain_in_Spain\"\n",
    "#Retorna onde possui uma string vazia:\n",
    "x = re.findall(r\"\\s\", txt)\n",
    "print(x)\n",
    "if x:\n",
    "  print(\"Possui o valor\")\n",
    "else:\n",
    "  print(\"Não possui o valor\")\n"
   ]
  },
  {
   "cell_type": "markdown",
   "metadata": {},
   "source": [
    ">Uso do **\\S**"
   ]
  },
  {
   "cell_type": "code",
   "execution_count": 91,
   "metadata": {},
   "outputs": [
    {
     "name": "stdout",
     "output_type": "stream",
     "text": [
      "['T', 'h', 'e', 'r', 'a', 'i', 'n', 'i', 'n', 'S', 'p', 'a', 'i', 'n']\n",
      "Possui o valor\n"
     ]
    }
   ],
   "source": [
    "#Uso do \\S\n",
    "txt = \"The rain in Spain\"\n",
    "#Retorna onde não possui uma string vazia:\n",
    "x = re.findall(r\"\\S\", txt)\n",
    "print(x)\n",
    "if x:\n",
    "  print(\"Possui o valor\")\n",
    "else:\n",
    "  print(\"Não possui o valor\")"
   ]
  },
  {
   "cell_type": "code",
   "execution_count": 85,
   "metadata": {},
   "outputs": [
    {
     "name": "stdout",
     "output_type": "stream",
     "text": [
      "[]\n",
      "Não possui o valor\n"
     ]
    }
   ],
   "source": [
    "txt = \"   \"\n",
    "#Retorna onde não possui uma string vazia:\n",
    "x = re.findall(r\"\\S\", txt)\n",
    "print(x)\n",
    "if x:\n",
    "  print(\"Possui o valor\")\n",
    "else:\n",
    "  print(\"Não possui o valor\")"
   ]
  },
  {
   "cell_type": "markdown",
   "metadata": {},
   "source": [
    ">Uso do **\\w**"
   ]
  },
  {
   "cell_type": "code",
   "execution_count": 92,
   "metadata": {},
   "outputs": [
    {
     "name": "stdout",
     "output_type": "stream",
     "text": [
      "['T', 'h', 'e', 'r', 'a', 'i', 'n', 'i', 'n', 'S', 'p', 'a', 'i', 'n']\n",
      "Possui o valor\n"
     ]
    }
   ],
   "source": [
    "#Uso do \\w\n",
    "txt = \"The rain in Spain\"\n",
    "#Retorna onde possui uma palavra\n",
    "x = re.findall(r\"\\w\", txt)\n",
    "print(x)\n",
    "if x:\n",
    "  print(\"Possui o valor\")\n",
    "else:\n",
    "  print(\"Não possui o valor\")"
   ]
  },
  {
   "cell_type": "code",
   "execution_count": 88,
   "metadata": {},
   "outputs": [
    {
     "name": "stdout",
     "output_type": "stream",
     "text": [
      "[]\n",
      "Não possui o valor\n"
     ]
    }
   ],
   "source": [
    "txt = \"   \"\n",
    "#Retorna onde possui uma palavra\n",
    "x = re.findall(r\"\\w\", txt)\n",
    "print(x)\n",
    "if x:\n",
    "  print(\"Possui o valor\")\n",
    "else:\n",
    "  print(\"Não possui o valor\")"
   ]
  },
  {
   "cell_type": "markdown",
   "metadata": {},
   "source": [
    ">Uso do **\\W**"
   ]
  },
  {
   "cell_type": "code",
   "execution_count": 94,
   "metadata": {},
   "outputs": [
    {
     "name": "stdout",
     "output_type": "stream",
     "text": [
      "[' ', ' ', ' ']\n",
      "Possui o valor\n"
     ]
    }
   ],
   "source": [
    "#Uso do \\W\n",
    "txt = \"The rain in Spain\"\n",
    "#Retorna onde possui uma palavra\n",
    "x = re.findall(r\"\\W\", txt)\n",
    "print(x)\n",
    "if x:\n",
    "  print(\"Possui o valor\")\n",
    "else:\n",
    "  print(\"Não possui o valor\")"
   ]
  },
  {
   "cell_type": "code",
   "execution_count": 99,
   "metadata": {},
   "outputs": [
    {
     "name": "stdout",
     "output_type": "stream",
     "text": [
      "[]\n",
      "Não possui o valor\n"
     ]
    }
   ],
   "source": [
    "#Uso do \\W\n",
    "txt = \"The_rain_in_Spain\"\n",
    "#Retorna onde possui uma palavra\n",
    "x = re.findall(r\"\\W\", txt)\n",
    "print(x)\n",
    "if x:\n",
    "  print(\"Possui o valor\")\n",
    "else:\n",
    "  print(\"Não possui o valor\")"
   ]
  },
  {
   "cell_type": "markdown",
   "metadata": {},
   "source": [
    ">Uso do **\\Z**"
   ]
  },
  {
   "cell_type": "code",
   "execution_count": 101,
   "metadata": {},
   "outputs": [
    {
     "name": "stdout",
     "output_type": "stream",
     "text": [
      "['Spain']\n",
      "Possui o valor\n"
     ]
    }
   ],
   "source": [
    "#Uso do \\Z\n",
    "txt = \"The rain in Spain\"\n",
    "#Checando se a string termina com \"Spain\":\n",
    "x = re.findall(r\"Spain\\Z\", txt)\n",
    "print(x)\n",
    "if x:\n",
    "  print(\"Possui o valor\")\n",
    "else:\n",
    "  print(\"Não possui o valor\")"
   ]
  },
  {
   "cell_type": "code",
   "execution_count": 102,
   "metadata": {},
   "outputs": [
    {
     "name": "stdout",
     "output_type": "stream",
     "text": [
      "[]\n",
      "Não possui o valor\n"
     ]
    }
   ],
   "source": [
    "txt = \"The rain in Spain\"\n",
    "#Checando se a string termina com \"Spain\":\n",
    "x = re.findall(r\"Brazil\\Z\", txt)\n",
    "print(x)\n",
    "if x:\n",
    "  print(\"Possui o valor\")\n",
    "else:\n",
    "  print(\"Não possui o valor\")"
   ]
  },
  {
   "cell_type": "markdown",
   "metadata": {},
   "source": [
    "## **REGEX com ChatGPT**"
   ]
  },
  {
   "cell_type": "markdown",
   "metadata": {},
   "source": [
    ">Música: All Too Well\n",
    "<br>Taylor Swift"
   ]
  },
  {
   "cell_type": "code",
   "execution_count": 14,
   "metadata": {},
   "outputs": [],
   "source": [
    "#Variável do tipo string\n",
    "musica = '''\n",
    "I walked through the door with you, the air was cold\n",
    "But something 'bout it felt like home somehow\n",
    "And I, left my scarf there, at your sister's house\n",
    "And you've still got it in your drawer, even now\n",
    "\n",
    "Oh, your sweet disposition and my wide-eyed gaze\n",
    "We're singing in the car, getting lost upstate\n",
    "Autumn leaves falling down like pieces into place\n",
    "And I can picture it after all these days\n",
    "\n",
    "And I know it's long gone\n",
    "And that magic's not here no more\n",
    "And I might be okay\n",
    "But I'm not fine at all\n",
    "\n",
    "'Cause there we are again on that little town street\n",
    "You almost ran the red 'cause you were lookin' over at me\n",
    "Wind in my hair, I was there\n",
    "I remember it all too well\n",
    "\n",
    "Photo album on the counter, your cheeks were turning red\n",
    "You used to be a little kid with glasses in a twin sized bed\n",
    "And your mother's telling stories 'bout you on the Tee-ball team\n",
    "You taught me 'bout your past, thinking your future was me\n",
    "\n",
    "And I know it's long gone\n",
    "And there was nothing else I could do\n",
    "And I forget about you long enough\n",
    "To forget why I needed to\n",
    "\n",
    "'Cause there we are again, in the middle of the night\n",
    "We're dancing 'round the kitchen in the refrigerator light\n",
    "Down the stairs, I was there\n",
    "I remember it all too well\n",
    "\n",
    "And maybe we got lost in translation\n",
    "Maybe I asked for too much\n",
    "But maybe this thing was a masterpiece 'til you tore it all up\n",
    "Running scared, I was there\n",
    "I remember it all too well\n",
    "\n",
    "And you call me up again just to break me like a promise\n",
    "So casually cruel in the name of being honest\n",
    "I'm a crumpled up piece of paper lying here\n",
    "'Cause I remember it all, all, all\n",
    "Too well\n",
    "\n",
    "Time won't fly, it's like I'm paralysed by it\n",
    "I'd like to be my old self again\n",
    "But I'm still trying to find it\n",
    "After plaid shirt days and nights when you made me your own\n",
    "Now you mail back my things and I walk home alone\n",
    "\n",
    "But you keep my old scarf from that very first week\n",
    "'Cause it reminds you of innocence and it smells like me\n",
    "You can't get rid of it\n",
    "'Cause you remember it all too well\n",
    "\n",
    "'Cause there we are again, when I loved you so\n",
    "Back before you lost the one real thing you've ever known\n",
    "It was rare, I was there\n",
    "I remember it all too well\n",
    "\n",
    "Wind in my hair, you were there\n",
    "You remember it all\n",
    "Down the stairs, you were there\n",
    "You remember it all\n",
    "It was rare, I was there\n",
    "I remember it all too well\n",
    "'''"
   ]
  },
  {
   "cell_type": "code",
   "execution_count": 15,
   "metadata": {},
   "outputs": [
    {
     "name": "stdout",
     "output_type": "stream",
     "text": [
      "\n",
      "I walked through the door with you, the air was cold\n",
      "But something 'bout it felt like home somehow\n",
      "And I, left my scarf there, at your sister's house\n",
      "And you've still got it in your drawer, even now\n",
      "\n",
      "Oh, your sweet disposition and my wide-eyed gaze\n",
      "We're singing in the car, getting lost upstate\n",
      "Autumn leaves falling down like pieces into place\n",
      "And I can picture it after all these days\n",
      "\n",
      "And I know it's long gone\n",
      "And that magic's not here no more\n",
      "And I might be okay\n",
      "But I'm not fine at all\n",
      "\n",
      "'Cause there we are again on that little town street\n",
      "You almost ran the red 'cause you were lookin' over at me\n",
      "Wind in my hair, I was there\n",
      "I remember it all too well\n",
      "\n",
      "Photo album on the counter, your cheeks were turning red\n",
      "You used to be a little kid with glasses in a twin sized bed\n",
      "And your mother's telling stories 'bout you on the Tee-ball team\n",
      "You taught me 'bout your past, thinking your future was me\n",
      "\n",
      "And I know it's long gone\n",
      "And there was nothing else I could do\n",
      "And I forget about you long enough\n",
      "To forget why I needed to\n",
      "\n",
      "'Cause there we are again, in the middle of the night\n",
      "We're dancing 'round the kitchen in the refrigerator light\n",
      "Down the stairs, I was there\n",
      "I remember it all too well\n",
      "\n",
      "And maybe we got lost in translation\n",
      "Maybe I asked for too much\n",
      "But maybe this thing was a masterpiece 'til you tore it all up\n",
      "Running scared, I was there\n",
      "I remember it all too well\n",
      "\n",
      "And you call me up again just to break me like a promise\n",
      "So casually cruel in the name of being honest\n",
      "I'm a crumpled up piece of paper lying here\n",
      "'Cause I remember it all, all, all\n",
      "Too well\n",
      "\n",
      "Time won't fly, it's like I'm paralysed by it\n",
      "I'd like to be my old self again\n",
      "But I'm still trying to find it\n",
      "After plaid shirt days and nights when you made me your own\n",
      "Now you mail back my things and I walk home alone\n",
      "\n",
      "But you keep my old scarf from that very first week\n",
      "'Cause it reminds you of innocence and it smells like me\n",
      "You can't get rid of it\n",
      "'Cause you remember it all too well\n",
      "\n",
      "'Cause there we are again, when I loved you so\n",
      "Back before you lost the one real thing you've ever known\n",
      "It was rare, I was there\n",
      "I remember it all too well\n",
      "\n",
      "Wind in my hair, you were there\n",
      "You remember it all\n",
      "Down the stairs, you were there\n",
      "You remember it all\n",
      "It was rare, I was there\n",
      "I remember it all too well\n",
      "\n"
     ]
    }
   ],
   "source": [
    "print(musica)"
   ]
  },
  {
   "cell_type": "markdown",
   "metadata": {},
   "source": [
    ">1- Crie um REGEX para contar quantas vezes o caracter \"a\" aparece em todo o texto da música\n",
    "<br>2- Crie um REGEX em Python para contar quantas vezes a palavra \"well\" aparece na música\n",
    "<br>3- Crie um REGEX em Python para extrair as palavras seguidas por vírgula\n",
    "<br>4- Crie um REGEX que extrai qualquer palavra cujo antecessor seja a palavra \"all\" e o sucessor seja a palavra \"well\" em um texto\n",
    "<br>5- Crie um REGEX que retorne as palavras com apóstrofo, mas somente os caracteres na palavra que são anteriores ao apóstrofo"
   ]
  },
  {
   "cell_type": "markdown",
   "metadata": {},
   "source": [
    "<li>Solução para 1"
   ]
  },
  {
   "cell_type": "code",
   "execution_count": 16,
   "metadata": {},
   "outputs": [
    {
     "name": "stdout",
     "output_type": "stream",
     "text": [
      "O caractere \"a\" aparece 119 vezes no texto.\n"
     ]
    }
   ],
   "source": [
    "import re\n",
    "\n",
    "def count_a(text):\n",
    "    # Cria um padrão regex para encontrar todas as ocorrências de \"a\"\n",
    "    pattern = r'a'\n",
    "    # Usa findall para encontrar todas as ocorrências e retorna o comprimento da lista resultante\n",
    "    return len(re.findall(pattern, text))\n",
    "quantidade_a = count_a(musica)\n",
    "print(f'O caractere \"a\" aparece {quantidade_a} vezes no texto.')\n"
   ]
  },
  {
   "cell_type": "markdown",
   "metadata": {},
   "source": [
    "Também pode ser solucionado da seguinte forma (lembre-se que sempre vão haver muitas soluções para o mesmo problema)"
   ]
  },
  {
   "cell_type": "code",
   "execution_count": 18,
   "metadata": {},
   "outputs": [
    {
     "name": "stdout",
     "output_type": "stream",
     "text": [
      "O caractere \"a\" aparece 119 vezes no texto.\n"
     ]
    }
   ],
   "source": [
    "match = re.findall(\"a\", musica)\n",
    "count = len(match)\n",
    "print(f'O caractere \"a\" aparece {count} vezes no texto.')"
   ]
  },
  {
   "cell_type": "code",
   "execution_count": 20,
   "metadata": {},
   "outputs": [
    {
     "name": "stdout",
     "output_type": "stream",
     "text": [
      "O caractere 'a' apareceu 119 vezes na musica\n"
     ]
    }
   ],
   "source": [
    "print(\"O caractere 'a' apareceu\", len(re.findall(\"a\", musica)), \"vezes na musica\")"
   ]
  },
  {
   "cell_type": "markdown",
   "metadata": {},
   "source": [
    "<li> Solução para 2"
   ]
  },
  {
   "cell_type": "code",
   "execution_count": 22,
   "metadata": {},
   "outputs": [
    {
     "name": "stdout",
     "output_type": "stream",
     "text": [
      "A palavra \"well\" aparece 7 vezes no texto.\n"
     ]
    }
   ],
   "source": [
    "import re\n",
    "def count_well(text):\n",
    "    #Cria um padrão regex para encontrar a palavra \"well\"\n",
    "    pattern = r'\\bwell\\b'\n",
    "    #Usa findall para encontrar todas as ocorrências e retorna o comprimento da lista resultante\n",
    "    #Usa IGNORECASE para garantir que a busca seja case-insensitive\n",
    "    return len(re.findall(pattern, text, re.IGNORECASE))\n",
    "quantidade_well = count_well(musica)\n",
    "print(f'A palavra \"well\" aparece {quantidade_well} vezes no texto.')\n",
    "\n"
   ]
  },
  {
   "cell_type": "code",
   "execution_count": 29,
   "metadata": {},
   "outputs": [
    {
     "name": "stdout",
     "output_type": "stream",
     "text": [
      "A palavra \"well\" aparece 7 vezes no texto.\n"
     ]
    }
   ],
   "source": [
    "match = re.findall(r\"\\bwell\\b\", musica, re.IGNORECASE)\n",
    "count = len(match)\n",
    "print(f'A palavra \"well\" aparece {count} vezes no texto.')"
   ]
  },
  {
   "cell_type": "code",
   "execution_count": 28,
   "metadata": {},
   "outputs": [
    {
     "name": "stdout",
     "output_type": "stream",
     "text": [
      "A palavra 'well' aparece 7 na musica\n"
     ]
    }
   ],
   "source": [
    "print(\"A palavra 'well' aparece\", len(re.findall(\"well\", musica, re.IGNORECASE)), \"na musica\")"
   ]
  },
  {
   "cell_type": "markdown",
   "metadata": {},
   "source": [
    "<li> Solução para 3"
   ]
  },
  {
   "cell_type": "code",
   "execution_count": 30,
   "metadata": {},
   "outputs": [
    {
     "name": "stdout",
     "output_type": "stream",
     "text": [
      "Palavras seguidas por vírgula: ['you', 'I', 'there', 'drawer', 'Oh', 'car', 'hair', 'counter', 'past', 'again', 'stairs', 'scared', 'all', 'all', 'fly', 'again', 'rare', 'hair', 'stairs', 'rare']\n"
     ]
    }
   ],
   "source": [
    "import re\n",
    "\n",
    "def extract_words_followed_by_comma(text):\n",
    "    # Cria um padrão regex para encontrar palavras seguidas por uma vírgula\n",
    "    pattern = r'\\b(\\w+),'\n",
    "    # Usa findall para encontrar todas as ocorrências\n",
    "    return re.findall(pattern, text)\n",
    "palavras_seguidas_por_virgula = extract_words_followed_by_comma(musica)\n",
    "print(f'Palavras seguidas por vírgula: {palavras_seguidas_por_virgula}')\n"
   ]
  },
  {
   "cell_type": "code",
   "execution_count": 34,
   "metadata": {},
   "outputs": [
    {
     "name": "stdout",
     "output_type": "stream",
     "text": [
      "Palavras seguidas por vírgula: ['you', 'I', 'there', 'drawer', 'Oh', 'car', 'hair', 'counter', 'past', 'again', 'stairs', 'scared', 'all', 'all', 'fly', 'again', 'rare', 'hair', 'stairs', 'rare']\n"
     ]
    }
   ],
   "source": [
    "match = re.findall(r\"\\b(\\w+),\", musica)\n",
    "print(f'Palavras seguidas por vírgula: {match}')\n"
   ]
  },
  {
   "cell_type": "code",
   "execution_count": 49,
   "metadata": {},
   "outputs": [
    {
     "name": "stdout",
     "output_type": "stream",
     "text": [
      "Palavras seguidas por vírgula:  ['you', 'I', 'there', 'drawer', 'Oh', 'car', 'hair', 'counter', 'past', 'again', 'stairs', 'scared', 'all', 'all', 'fly', 'again', 'rare', 'hair', 'stairs', 'rare']\n"
     ]
    }
   ],
   "source": [
    "print(\"Palavras seguidas por vírgula: \", re.findall(r\"\\b(\\w+),\", musica))"
   ]
  },
  {
   "cell_type": "markdown",
   "metadata": {},
   "source": [
    "<li>Solução para 4"
   ]
  },
  {
   "cell_type": "code",
   "execution_count": 42,
   "metadata": {},
   "outputs": [
    {
     "name": "stdout",
     "output_type": "stream",
     "text": [
      "Palavras entre \"all\" e \"well\": ['too', 'too', 'too', 'Too', 'too', 'too', 'too']\n"
     ]
    }
   ],
   "source": [
    "import re\n",
    "\n",
    "def extract_word_between_all_and_well(text):\n",
    "    # Cria um padrão regex para encontrar uma palavra entre \"all\" e \"well\"\n",
    "    pattern = r'(?<=\\ball\\s)(\\w+)(?=\\swell\\b)'\n",
    "    # Usa findall para encontrar todas as ocorrências\n",
    "    return re.findall(pattern, text)\n",
    "match = extract_word_between_all_and_well(musica)\n",
    "print(f'Palavras entre \"all\" e \"well\": {match}')\n"
   ]
  },
  {
   "cell_type": "code",
   "execution_count": 43,
   "metadata": {},
   "outputs": [
    {
     "name": "stdout",
     "output_type": "stream",
     "text": [
      "Palavras entre \"all\" e \"well\": ['too', 'too', 'too', 'Too', 'too', 'too', 'too']\n"
     ]
    }
   ],
   "source": [
    "match = re.findall(r\"(?<=\\ball\\s)(\\w+)(?=\\swell\\b)\", musica)\n",
    "print(f'Palavras entre \"all\" e \"well\": {match}')\n"
   ]
  },
  {
   "cell_type": "code",
   "execution_count": 44,
   "metadata": {},
   "outputs": [
    {
     "name": "stdout",
     "output_type": "stream",
     "text": [
      "Palavras seguidas por vírgula:  ['too', 'too', 'too', 'Too', 'too', 'too', 'too']\n"
     ]
    }
   ],
   "source": [
    "print(\"Palavras seguidas por vírgula: \", re.findall(r\"(?<=\\ball\\s)(\\w+)(?=\\swell\\b)\", musica))"
   ]
  },
  {
   "cell_type": "code",
   "execution_count": 47,
   "metadata": {},
   "outputs": [
    {
     "name": "stdout",
     "output_type": "stream",
     "text": [
      "Palavras antes do apóstrofo: ['sister', 'you', 'We', 'it', 'magic', 'I', 'lookin', 'mother', 'it', 'We', 'I', 'won', 'it', 'I', 'I', 'I', 'can', 'you']\n"
     ]
    }
   ],
   "source": [
    "import re\n",
    "\n",
    "def extract_words_before_apostrophe(text):\n",
    "    # Cria um padrão regex para encontrar palavras com apóstrofo e capturar apenas os caracteres antes do apóstrofo\n",
    "    pattern = r\"\\b(\\w+)'\"\n",
    "    # Usa findall para encontrar todas as ocorrências\n",
    "    return re.findall(pattern, text)\n",
    "match = extract_words_before_apostrophe(musica)\n",
    "print(f'Palavras antes do apóstrofo: {match}')\n"
   ]
  },
  {
   "cell_type": "code",
   "execution_count": 51,
   "metadata": {},
   "outputs": [
    {
     "name": "stdout",
     "output_type": "stream",
     "text": [
      "Palavras antes do apóstrofo: ['sister', 'you', 'We', 'it', 'magic', 'I', 'lookin', 'mother', 'it', 'We', 'I', 'won', 'it', 'I', 'I', 'I', 'can', 'you']\n"
     ]
    }
   ],
   "source": [
    "match = re.findall(r\"\\b(\\w+)'\", musica)\n",
    "print(f'Palavras antes do apóstrofo: {match}')"
   ]
  },
  {
   "cell_type": "code",
   "execution_count": 52,
   "metadata": {},
   "outputs": [
    {
     "name": "stdout",
     "output_type": "stream",
     "text": [
      "Palavras antes do apóstrofo:  ['sister', 'you', 'We', 'it', 'magic', 'I', 'lookin', 'mother', 'it', 'We', 'I', 'won', 'it', 'I', 'I', 'I', 'can', 'you']\n"
     ]
    }
   ],
   "source": [
    "print(\"Palavras antes do apóstrofo: \", re.findall(r\"\\b(\\w+)'\", musica))"
   ]
  }
 ],
 "metadata": {
  "kernelspec": {
   "display_name": "base",
   "language": "python",
   "name": "python3"
  },
  "language_info": {
   "codemirror_mode": {
    "name": "ipython",
    "version": 3
   },
   "file_extension": ".py",
   "mimetype": "text/x-python",
   "name": "python",
   "nbconvert_exporter": "python",
   "pygments_lexer": "ipython3",
   "version": "3.12.4"
  }
 },
 "nbformat": 4,
 "nbformat_minor": 2
}
